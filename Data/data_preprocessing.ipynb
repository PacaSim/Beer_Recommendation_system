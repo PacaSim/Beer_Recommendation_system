{
 "cells": [
  {
   "cell_type": "code",
   "execution_count": 1,
   "id": "9c5307b7",
   "metadata": {},
   "outputs": [
    {
     "name": "stdout",
     "output_type": "stream",
     "text": [
      "31 번째에서 오류가 발생했습니다. 다음 파일로 넘어갑니다.\n",
      "69 번째에서 오류가 발생했습니다. 다음 파일로 넘어갑니다.\n"
     ]
    }
   ],
   "source": [
    "import pandas as pd\n",
    "\n",
    "# 합친 데이터를 저장할 데이터프레임\n",
    "data = pd.DataFrame(data=[], columns=['맥주정보', '검색이름', '맥주이름'])\n",
    "\n",
    "# 수집한 파일의 개수\n",
    "files_cnt = 75\n",
    "\n",
    "for i in range(files_cnt):\n",
    "\n",
    "    # 해당 경로에서 beer_n_1.csv 형식의 파일들만 수집한 뒤 병합합니다.\n",
    "    try : \n",
    "        tmp = pd.read_csv(r'C:\\Users\\심준현\\beer_n_'+str(i)+'.csv', index_col=0)\n",
    "        data = pd.concat([data,tmp])\n",
    "    # 오류 발생 시 넘어갑니다.\n",
    "    except :\n",
    "        print(i, '번째에서 오류가 발생했습니다. 다음 파일로 넘어갑니다.')\n",
    "\n",
    "# 합친 데이터를 저장합니다.\n",
    "data.to_csv('전처리전데이터.csv', encoding='utf-8')"
   ]
  },
  {
   "cell_type": "code",
   "execution_count": 1,
   "id": "b1481923",
   "metadata": {},
   "outputs": [
    {
     "data": {
      "text/html": [
       "<div>\n",
       "<style scoped>\n",
       "    .dataframe tbody tr th:only-of-type {\n",
       "        vertical-align: middle;\n",
       "    }\n",
       "\n",
       "    .dataframe tbody tr th {\n",
       "        vertical-align: top;\n",
       "    }\n",
       "\n",
       "    .dataframe thead th {\n",
       "        text-align: right;\n",
       "    }\n",
       "</style>\n",
       "<table border=\"1\" class=\"dataframe\">\n",
       "  <thead>\n",
       "    <tr style=\"text-align: right;\">\n",
       "      <th></th>\n",
       "      <th>맥주이름</th>\n",
       "      <th>맥주정보</th>\n",
       "    </tr>\n",
       "  </thead>\n",
       "  <tbody>\n",
       "    <tr>\n",
       "      <th>0</th>\n",
       "      <td>Kloud Original Gravity</td>\n",
       "      <td>vinivini(9,604)\\n🇧🇾Homiel, Belarus\\n2.9Decembe...</td>\n",
       "    </tr>\n",
       "    <tr>\n",
       "      <th>1</th>\n",
       "      <td>Kloud Original Gravity</td>\n",
       "      <td>italianjohn(5,524)\\n🇺🇸Penndel, United States\\n...</td>\n",
       "    </tr>\n",
       "    <tr>\n",
       "      <th>2</th>\n",
       "      <td>Kloud Original Gravity</td>\n",
       "      <td>orda(297)\\n🇺🇸Aurora, United States\\n3.9August ...</td>\n",
       "    </tr>\n",
       "    <tr>\n",
       "      <th>3</th>\n",
       "      <td>Kloud Original Gravity</td>\n",
       "      <td>Radek Kliber(8,125)\\n🇨🇦Toronto (Can) Krotoszyn...</td>\n",
       "    </tr>\n",
       "    <tr>\n",
       "      <th>4</th>\n",
       "      <td>Kloud Original Gravity</td>\n",
       "      <td>geologyguy(2,602)\\n🇺🇸Columbia, United States\\n...</td>\n",
       "    </tr>\n",
       "  </tbody>\n",
       "</table>\n",
       "</div>"
      ],
      "text/plain": [
       "                     맥주이름                                               맥주정보\n",
       "0  Kloud Original Gravity  vinivini(9,604)\\n🇧🇾Homiel, Belarus\\n2.9Decembe...\n",
       "1  Kloud Original Gravity  italianjohn(5,524)\\n🇺🇸Penndel, United States\\n...\n",
       "2  Kloud Original Gravity  orda(297)\\n🇺🇸Aurora, United States\\n3.9August ...\n",
       "3  Kloud Original Gravity  Radek Kliber(8,125)\\n🇨🇦Toronto (Can) Krotoszyn...\n",
       "4  Kloud Original Gravity  geologyguy(2,602)\\n🇺🇸Columbia, United States\\n..."
      ]
     },
     "execution_count": 1,
     "metadata": {},
     "output_type": "execute_result"
    }
   ],
   "source": [
    "import pandas as pd\n",
    "\n",
    "data = pd.read_csv('전처리전데이터.csv', encoding='utf-8', index_col=0)\n",
    "\n",
    "data = data[['맥주이름', '맥주정보']]\n",
    "\n",
    "data.head()"
   ]
  },
  {
   "cell_type": "code",
   "execution_count": 2,
   "id": "d31f208c",
   "metadata": {},
   "outputs": [
    {
     "name": "stdout",
     "output_type": "stream",
     "text": [
      "<class 'pandas.core.frame.DataFrame'>\n",
      "Index: 76015 entries, 0 to 4240\n",
      "Data columns (total 2 columns):\n",
      " #   Column  Non-Null Count  Dtype \n",
      "---  ------  --------------  ----- \n",
      " 0   맥주이름    76015 non-null  object\n",
      " 1   맥주정보    76015 non-null  object\n",
      "dtypes: object(2)\n",
      "memory usage: 1.7+ MB\n"
     ]
    }
   ],
   "source": [
    "data.info()"
   ]
  },
  {
   "cell_type": "code",
   "execution_count": 7,
   "id": "ebfb600b",
   "metadata": {},
   "outputs": [
    {
     "data": {
      "text/plain": [
       "'vinivini(9,604)\\n🇧🇾Homiel, Belarus\\n2.9December 29, 2022\\nStraight from the can.\\nClean, malty, bready & grassy. Light sweet, light to medium bitter.…\\nShow more\\nCAN\\nAroma\\n5\\nAppearance\\n4\\nFlavor\\n6\\nMouthfeel\\n4\\nOverall\\n10'"
      ]
     },
     "execution_count": 7,
     "metadata": {},
     "output_type": "execute_result"
    }
   ],
   "source": [
    "data['맥주정보'].iloc[0]"
   ]
  },
  {
   "cell_type": "markdown",
   "id": "ed86f84b",
   "metadata": {},
   "source": [
    "아이디\\n거주지역\\n날짜\\n평가 코멘트\\n 등등 "
   ]
  },
  {
   "cell_type": "code",
   "execution_count": 10,
   "id": "d4d4b32d",
   "metadata": {},
   "outputs": [
    {
     "data": {
      "text/plain": [
       "0       [vinivini(9,604), 🇧🇾Homiel, Belarus, 2.9Decemb...\n",
       "1       [italianjohn(5,524), 🇺🇸Penndel, United States,...\n",
       "2       [orda(297), 🇺🇸Aurora, United States, 3.9August...\n",
       "3       [Radek Kliber(8,125), 🇨🇦Toronto (Can) Krotoszy...\n",
       "4       [geologyguy(2,602), 🇺🇸Columbia, United States,...\n",
       "                              ...                        \n",
       "4236    [Jimmylib(169), 🇺🇸old bridge, United States, 2...\n",
       "4237    [Aubrey(3,516), 🇺🇸Bellingham, United States, 2...\n",
       "4238    [wade(59), 🇺🇸Decatur, United States, 1.9May 24...\n",
       "4239    [redwitching99(15), 🇺🇸st. augustine, United St...\n",
       "4240    [roland(38), 🇺🇸Bellevue, United States, 3.0May...\n",
       "Name: 맥주정보, Length: 76015, dtype: object"
      ]
     },
     "execution_count": 10,
     "metadata": {},
     "output_type": "execute_result"
    }
   ],
   "source": [
    "# data 복제\n",
    "tmp = data.copy()\n",
    "\n",
    "# 맥주정보 \\n 기준으로 분리하기\n",
    "tmp['맥주정보'] = tmp['맥주정보'].str.split('\\n')\n",
    "tmp['맥주정보']"
   ]
  },
  {
   "cell_type": "code",
   "execution_count": 11,
   "id": "054cbb0a",
   "metadata": {},
   "outputs": [
    {
     "data": {
      "text/plain": [
       "['vinivini(9,604)',\n",
       " '🇧🇾Homiel, Belarus',\n",
       " '2.9December 29, 2022',\n",
       " 'Straight from the can.',\n",
       " 'Clean, malty, bready & grassy. Light sweet, light to medium bitter.…',\n",
       " 'Show more',\n",
       " 'CAN',\n",
       " 'Aroma',\n",
       " '5',\n",
       " 'Appearance',\n",
       " '4',\n",
       " 'Flavor',\n",
       " '6',\n",
       " 'Mouthfeel',\n",
       " '4',\n",
       " 'Overall',\n",
       " '10']"
      ]
     },
     "execution_count": 11,
     "metadata": {},
     "output_type": "execute_result"
    }
   ],
   "source": [
    "# 분리된 스트링 값 확인 -> List로 변환됨\n",
    "tmp['맥주정보'].iloc[0]"
   ]
  },
  {
   "cell_type": "code",
   "execution_count": 12,
   "id": "759ad1d4",
   "metadata": {},
   "outputs": [
    {
     "name": "stdout",
     "output_type": "stream",
     "text": [
      "['Crockett(1,164)', '🇨🇦Southampton, Canada', '1.5January 29, 2004', 'Tap pour. Clear, and virtually without carbonation. Little to no aroma. At least nothing stands out. It smells somewhat like beer. It also smells somewhat like nothing. Used to fill out…', 'Show more', 'Aroma', '2', 'Appearance', '2', 'Flavor', '3', 'Mouthfeel', '2', 'Overall', '6'] \n",
      "\n",
      "['piscator34(3,598)', '🇨🇦Winnipeg, Canada', '2.1January 28, 2004', 'Hoppy... similar to Becks, but with a bit less favour. Light yellow in colour, and not much head. I liked this beer when I was younger, but now I feel like I (along with my taste buds)…', 'Show more', 'Aroma', '4', 'Appearance', '2', 'Flavor', '4', 'Mouthfeel', '2', 'Overall', '9'] \n",
      "\n",
      "['jollyraider(252)', '🇺🇸Los Angeles, United States', '2.0January 28, 2004', 'Not too bad. Despite what others say, preferable to a lot of beer you seen at college.  I liked the bit of bite.  Drink it cold to avoid the skunk.', 'Aroma', '3', 'Appearance', '2', 'Flavor', '4', 'Mouthfeel', '2', 'Overall', '9'] \n",
      "\n"
     ]
    }
   ],
   "source": [
    "# 특이점 확인 : 0,1,2,3번째 리스트 요소까지 잘라야함.\n",
    "for i in range(75252, 75255):\n",
    "    print(tmp['맥주정보'].iloc[i], '\\n')"
   ]
  },
  {
   "cell_type": "code",
   "execution_count": 85,
   "id": "29420471",
   "metadata": {},
   "outputs": [
    {
     "data": {
      "text/plain": [
       "['GuideDogSaint(3,477)',\n",
       " '🇨🇳Xiamen, China',\n",
       " '2.2February 8, 2020',\n",
       " 'Small can from a supermarket in Phnom Penh. Pours golden yellow with a dissipating white head. Aroma of malt. Hint of lemon in the sweet taste. Sweet finish.',\n",
       " 'Aroma',\n",
       " '4',\n",
       " 'Appearance',\n",
       " '2',\n",
       " 'Flavor',\n",
       " '5',\n",
       " 'Mouthfeel',\n",
       " '2',\n",
       " 'Overall',\n",
       " '9']"
      ]
     },
     "execution_count": 85,
     "metadata": {},
     "output_type": "execute_result"
    }
   ],
   "source": [
    "# 새로운 데이터 프레임 ttmp에 copy()후 전처리 하겠습니다.\n",
    "ttmp = tmp.copy()\n",
    "# 맥주정보 리스트 출력 : 좋아요 수가 기록된 유저 정보\n",
    "ttmp['맥주정보'].iloc[10]"
   ]
  },
  {
   "cell_type": "code",
   "execution_count": 86,
   "id": "494b297e",
   "metadata": {},
   "outputs": [],
   "source": [
    "# 전체 데이터프레임에서 좋아요가 1개인 것 찾아서 맨 뒤에 것 삭제\n",
    "ttmp['맥주정보'] = ttmp['맥주정보'].apply(lambda x : x if x[-2]=='Overall' else x[:-1])"
   ]
  },
  {
   "cell_type": "code",
   "execution_count": 89,
   "id": "46cfa8c9",
   "metadata": {},
   "outputs": [],
   "source": [
    "# 맥주정보에서 0,1,2,3번째 리스트 요소와 뒤에서부터 10개의 리스트요소(평점값들)추출\n",
    "ttmp['맥주정보'] = ttmp['맥주정보'].apply(lambda x : x[:4]+x[:-11:-1])\n",
    "ttmp = ttmp[ttmp['맥주정보'].str.len() >= 10]"
   ]
  },
  {
   "cell_type": "code",
   "execution_count": 90,
   "id": "163b7939",
   "metadata": {},
   "outputs": [
    {
     "data": {
      "text/html": [
       "<div>\n",
       "<style scoped>\n",
       "    .dataframe tbody tr th:only-of-type {\n",
       "        vertical-align: middle;\n",
       "    }\n",
       "\n",
       "    .dataframe tbody tr th {\n",
       "        vertical-align: top;\n",
       "    }\n",
       "\n",
       "    .dataframe thead th {\n",
       "        text-align: right;\n",
       "    }\n",
       "</style>\n",
       "<table border=\"1\" class=\"dataframe\">\n",
       "  <thead>\n",
       "    <tr style=\"text-align: right;\">\n",
       "      <th></th>\n",
       "      <th>맥주이름</th>\n",
       "      <th>맥주정보</th>\n",
       "      <th>ID</th>\n",
       "      <th>Aroma</th>\n",
       "      <th>Appearance</th>\n",
       "      <th>Flavor</th>\n",
       "      <th>Mouthfeel</th>\n",
       "      <th>Overall</th>\n",
       "      <th>길이</th>\n",
       "    </tr>\n",
       "  </thead>\n",
       "  <tbody>\n",
       "    <tr>\n",
       "      <th>0</th>\n",
       "      <td>Kloud Original Gravity</td>\n",
       "      <td>[🇧🇾Homiel, Belarus, 2.9December 29, 2022, Stra...</td>\n",
       "      <td>vinivini(9,604)</td>\n",
       "      <td>5</td>\n",
       "      <td>4</td>\n",
       "      <td>6</td>\n",
       "      <td>4</td>\n",
       "      <td>10</td>\n",
       "      <td>3</td>\n",
       "    </tr>\n",
       "    <tr>\n",
       "      <th>1</th>\n",
       "      <td>Kloud Original Gravity</td>\n",
       "      <td>[🇺🇸Penndel, United States, 2.8September 6, 202...</td>\n",
       "      <td>italianjohn(5,524)</td>\n",
       "      <td>5</td>\n",
       "      <td>3</td>\n",
       "      <td>5</td>\n",
       "      <td>3</td>\n",
       "      <td>12</td>\n",
       "      <td>3</td>\n",
       "    </tr>\n",
       "    <tr>\n",
       "      <th>2</th>\n",
       "      <td>Kloud Original Gravity</td>\n",
       "      <td>[🇺🇸Aurora, United States, 3.9August 29, 2021, ...</td>\n",
       "      <td>orda(297)</td>\n",
       "      <td>10</td>\n",
       "      <td>5</td>\n",
       "      <td>10</td>\n",
       "      <td>5</td>\n",
       "      <td>9</td>\n",
       "      <td>3</td>\n",
       "    </tr>\n",
       "  </tbody>\n",
       "</table>\n",
       "</div>"
      ],
      "text/plain": [
       "                     맥주이름                                               맥주정보   \n",
       "0  Kloud Original Gravity  [🇧🇾Homiel, Belarus, 2.9December 29, 2022, Stra...  \\\n",
       "1  Kloud Original Gravity  [🇺🇸Penndel, United States, 2.8September 6, 202...   \n",
       "2  Kloud Original Gravity  [🇺🇸Aurora, United States, 3.9August 29, 2021, ...   \n",
       "\n",
       "                   ID Aroma Appearance Flavor Mouthfeel Overall  길이  \n",
       "0     vinivini(9,604)     5          4      6         4      10   3  \n",
       "1  italianjohn(5,524)     5          3      5         3      12   3  \n",
       "2           orda(297)    10          5     10         5       9   3  "
      ]
     },
     "execution_count": 90,
     "metadata": {},
     "output_type": "execute_result"
    }
   ],
   "source": [
    "# 맨 첫번째 리스트 요소에 ID 저장\n",
    "# 그 뒤로는 뒤에서부터 각 평가값 저장\n",
    "ttmp['ID'] = ttmp['맥주정보'].apply(lambda x: x[0])\n",
    "ttmp['Aroma'] = ttmp['맥주정보'].apply(lambda x: x[-2])\n",
    "ttmp['Appearance'] = ttmp['맥주정보'].apply(lambda x: x[-4])\n",
    "ttmp['Flavor'] = ttmp['맥주정보'].apply(lambda x: x[-6])\n",
    "ttmp['Mouthfeel'] = ttmp['맥주정보'].apply(lambda x: x[-8])\n",
    "ttmp['Overall'] = ttmp['맥주정보'].apply(lambda x: x[-10])\n",
    "\n",
    "# 리스트의 1,2,3번째 요소만(평점날짜 or 이상한 값) 뽑아오기\n",
    "ttmp['맥주정보'] = ttmp['맥주정보'].apply(lambda x:x[1:4])\n",
    "ttmp['길이'] = ttmp['맥주정보'].apply(lambda x:len(x))\n",
    "\n",
    "# 결과 확인\n",
    "ttmp.head(3)"
   ]
  },
  {
   "cell_type": "code",
   "execution_count": 91,
   "id": "2db1f1c0",
   "metadata": {},
   "outputs": [],
   "source": [
    "ttmp = ttmp[['맥주이름', '맥주정보', '길이', 'ID', 'Aroma', 'Appearance', 'Flavor', 'Mouthfeel', 'Overall']]"
   ]
  },
  {
   "cell_type": "code",
   "execution_count": 92,
   "id": "af95716b",
   "metadata": {},
   "outputs": [
    {
     "data": {
      "text/html": [
       "<div>\n",
       "<style scoped>\n",
       "    .dataframe tbody tr th:only-of-type {\n",
       "        vertical-align: middle;\n",
       "    }\n",
       "\n",
       "    .dataframe tbody tr th {\n",
       "        vertical-align: top;\n",
       "    }\n",
       "\n",
       "    .dataframe thead th {\n",
       "        text-align: right;\n",
       "    }\n",
       "</style>\n",
       "<table border=\"1\" class=\"dataframe\">\n",
       "  <thead>\n",
       "    <tr style=\"text-align: right;\">\n",
       "      <th></th>\n",
       "      <th>맥주이름</th>\n",
       "      <th>맥주정보</th>\n",
       "      <th>길이</th>\n",
       "      <th>ID</th>\n",
       "      <th>Aroma</th>\n",
       "      <th>Appearance</th>\n",
       "      <th>Flavor</th>\n",
       "      <th>Mouthfeel</th>\n",
       "      <th>Overall</th>\n",
       "    </tr>\n",
       "  </thead>\n",
       "  <tbody>\n",
       "    <tr>\n",
       "      <th>0</th>\n",
       "      <td>Kloud Original Gravity</td>\n",
       "      <td>[🇧🇾Homiel, Belarus, 2.9December 29, 2022, Stra...</td>\n",
       "      <td>3</td>\n",
       "      <td>vinivini(9,604)</td>\n",
       "      <td>5</td>\n",
       "      <td>4</td>\n",
       "      <td>6</td>\n",
       "      <td>4</td>\n",
       "      <td>10</td>\n",
       "    </tr>\n",
       "    <tr>\n",
       "      <th>1</th>\n",
       "      <td>Kloud Original Gravity</td>\n",
       "      <td>[🇺🇸Penndel, United States, 2.8September 6, 202...</td>\n",
       "      <td>3</td>\n",
       "      <td>italianjohn(5,524)</td>\n",
       "      <td>5</td>\n",
       "      <td>3</td>\n",
       "      <td>5</td>\n",
       "      <td>3</td>\n",
       "      <td>12</td>\n",
       "    </tr>\n",
       "    <tr>\n",
       "      <th>2</th>\n",
       "      <td>Kloud Original Gravity</td>\n",
       "      <td>[🇺🇸Aurora, United States, 3.9August 29, 2021, ...</td>\n",
       "      <td>3</td>\n",
       "      <td>orda(297)</td>\n",
       "      <td>10</td>\n",
       "      <td>5</td>\n",
       "      <td>10</td>\n",
       "      <td>5</td>\n",
       "      <td>9</td>\n",
       "    </tr>\n",
       "  </tbody>\n",
       "</table>\n",
       "</div>"
      ],
      "text/plain": [
       "                     맥주이름                                               맥주정보   \n",
       "0  Kloud Original Gravity  [🇧🇾Homiel, Belarus, 2.9December 29, 2022, Stra...  \\\n",
       "1  Kloud Original Gravity  [🇺🇸Penndel, United States, 2.8September 6, 202...   \n",
       "2  Kloud Original Gravity  [🇺🇸Aurora, United States, 3.9August 29, 2021, ...   \n",
       "\n",
       "   길이                  ID Aroma Appearance Flavor Mouthfeel Overall  \n",
       "0   3     vinivini(9,604)     5          4      6         4      10  \n",
       "1   3  italianjohn(5,524)     5          3      5         3      12  \n",
       "2   3           orda(297)    10          5     10         5       9  "
      ]
     },
     "execution_count": 92,
     "metadata": {},
     "output_type": "execute_result"
    }
   ],
   "source": [
    "ttmp.head(3)"
   ]
  },
  {
   "cell_type": "code",
   "execution_count": 93,
   "id": "f08e0545",
   "metadata": {},
   "outputs": [],
   "source": [
    "import re\n",
    "\n",
    "# ex) 4.0December 28, 2020 추출\n",
    "reg = re.compile('[0-9]+.+[0-9]+[A-Za-z0-9]*')"
   ]
  },
  {
   "cell_type": "code",
   "execution_count": 94,
   "id": "7a174ded",
   "metadata": {},
   "outputs": [
    {
     "data": {
      "text/html": [
       "<div>\n",
       "<style scoped>\n",
       "    .dataframe tbody tr th:only-of-type {\n",
       "        vertical-align: middle;\n",
       "    }\n",
       "\n",
       "    .dataframe tbody tr th {\n",
       "        vertical-align: top;\n",
       "    }\n",
       "\n",
       "    .dataframe thead th {\n",
       "        text-align: right;\n",
       "    }\n",
       "</style>\n",
       "<table border=\"1\" class=\"dataframe\">\n",
       "  <thead>\n",
       "    <tr style=\"text-align: right;\">\n",
       "      <th></th>\n",
       "      <th>맥주이름</th>\n",
       "      <th>맥주정보</th>\n",
       "      <th>길이</th>\n",
       "      <th>ID</th>\n",
       "      <th>Aroma</th>\n",
       "      <th>Appearance</th>\n",
       "      <th>Flavor</th>\n",
       "      <th>Mouthfeel</th>\n",
       "      <th>Overall</th>\n",
       "    </tr>\n",
       "  </thead>\n",
       "  <tbody>\n",
       "    <tr>\n",
       "      <th>0</th>\n",
       "      <td>Kloud Original Gravity</td>\n",
       "      <td>2.9December 29, 2022</td>\n",
       "      <td>3</td>\n",
       "      <td>vinivini(9,604)</td>\n",
       "      <td>5</td>\n",
       "      <td>4</td>\n",
       "      <td>6</td>\n",
       "      <td>4</td>\n",
       "      <td>10</td>\n",
       "    </tr>\n",
       "    <tr>\n",
       "      <th>1</th>\n",
       "      <td>Kloud Original Gravity</td>\n",
       "      <td>2.8September 6, 2021</td>\n",
       "      <td>3</td>\n",
       "      <td>italianjohn(5,524)</td>\n",
       "      <td>5</td>\n",
       "      <td>3</td>\n",
       "      <td>5</td>\n",
       "      <td>3</td>\n",
       "      <td>12</td>\n",
       "    </tr>\n",
       "    <tr>\n",
       "      <th>2</th>\n",
       "      <td>Kloud Original Gravity</td>\n",
       "      <td>3.9August 29, 2021</td>\n",
       "      <td>3</td>\n",
       "      <td>orda(297)</td>\n",
       "      <td>10</td>\n",
       "      <td>5</td>\n",
       "      <td>10</td>\n",
       "      <td>5</td>\n",
       "      <td>9</td>\n",
       "    </tr>\n",
       "    <tr>\n",
       "      <th>3</th>\n",
       "      <td>Kloud Original Gravity</td>\n",
       "      <td>2.4June 5, 2021</td>\n",
       "      <td>3</td>\n",
       "      <td>Radek Kliber(8,125)</td>\n",
       "      <td>6</td>\n",
       "      <td>3</td>\n",
       "      <td>4</td>\n",
       "      <td>2</td>\n",
       "      <td>9</td>\n",
       "    </tr>\n",
       "    <tr>\n",
       "      <th>4</th>\n",
       "      <td>Kloud Original Gravity</td>\n",
       "      <td>2.3May 26, 2021</td>\n",
       "      <td>3</td>\n",
       "      <td>geologyguy(2,602)</td>\n",
       "      <td>4</td>\n",
       "      <td>3</td>\n",
       "      <td>4</td>\n",
       "      <td>3</td>\n",
       "      <td>9</td>\n",
       "    </tr>\n",
       "  </tbody>\n",
       "</table>\n",
       "</div>"
      ],
      "text/plain": [
       "                     맥주이름                  맥주정보  길이                   ID   \n",
       "0  Kloud Original Gravity  2.9December 29, 2022   3      vinivini(9,604)  \\\n",
       "1  Kloud Original Gravity  2.8September 6, 2021   3   italianjohn(5,524)   \n",
       "2  Kloud Original Gravity    3.9August 29, 2021   3            orda(297)   \n",
       "3  Kloud Original Gravity       2.4June 5, 2021   3  Radek Kliber(8,125)   \n",
       "4  Kloud Original Gravity       2.3May 26, 2021   3    geologyguy(2,602)   \n",
       "\n",
       "  Aroma Appearance Flavor Mouthfeel Overall  \n",
       "0     5          4      6         4      10  \n",
       "1     5          3      5         3      12  \n",
       "2    10          5     10         5       9  \n",
       "3     6          3      4         2       9  \n",
       "4     4          3      4         3       9  "
      ]
     },
     "execution_count": 94,
     "metadata": {},
     "output_type": "execute_result"
    }
   ],
   "source": [
    "ttmp['맥주정보'] = ttmp['맥주정보'].apply(lambda x: x[0] if reg.match(x[0]) else \n",
    "                                  (x[1] if reg.match(x[1]) else x[2]))\n",
    "\n",
    "# 결과 확인\n",
    "ttmp.head()"
   ]
  },
  {
   "cell_type": "code",
   "execution_count": 95,
   "id": "e6820175",
   "metadata": {},
   "outputs": [
    {
     "data": {
      "text/html": [
       "<div>\n",
       "<style scoped>\n",
       "    .dataframe tbody tr th:only-of-type {\n",
       "        vertical-align: middle;\n",
       "    }\n",
       "\n",
       "    .dataframe tbody tr th {\n",
       "        vertical-align: top;\n",
       "    }\n",
       "\n",
       "    .dataframe thead th {\n",
       "        text-align: right;\n",
       "    }\n",
       "</style>\n",
       "<table border=\"1\" class=\"dataframe\">\n",
       "  <thead>\n",
       "    <tr style=\"text-align: right;\">\n",
       "      <th></th>\n",
       "      <th>맥주이름</th>\n",
       "      <th>맥주정보</th>\n",
       "      <th>길이</th>\n",
       "      <th>ID</th>\n",
       "      <th>Aroma</th>\n",
       "      <th>Appearance</th>\n",
       "      <th>Flavor</th>\n",
       "      <th>Mouthfeel</th>\n",
       "      <th>Overall</th>\n",
       "      <th>평점</th>\n",
       "      <th>날짜</th>\n",
       "    </tr>\n",
       "  </thead>\n",
       "  <tbody>\n",
       "    <tr>\n",
       "      <th>0</th>\n",
       "      <td>Kloud Original Gravity</td>\n",
       "      <td>2.9December 29, 2022</td>\n",
       "      <td>3</td>\n",
       "      <td>vinivini(9,604)</td>\n",
       "      <td>5</td>\n",
       "      <td>4</td>\n",
       "      <td>6</td>\n",
       "      <td>4</td>\n",
       "      <td>10</td>\n",
       "      <td>2.9</td>\n",
       "      <td>December 29, 2022</td>\n",
       "    </tr>\n",
       "    <tr>\n",
       "      <th>1</th>\n",
       "      <td>Kloud Original Gravity</td>\n",
       "      <td>2.8September 6, 2021</td>\n",
       "      <td>3</td>\n",
       "      <td>italianjohn(5,524)</td>\n",
       "      <td>5</td>\n",
       "      <td>3</td>\n",
       "      <td>5</td>\n",
       "      <td>3</td>\n",
       "      <td>12</td>\n",
       "      <td>2.8</td>\n",
       "      <td>September 6, 2021</td>\n",
       "    </tr>\n",
       "    <tr>\n",
       "      <th>2</th>\n",
       "      <td>Kloud Original Gravity</td>\n",
       "      <td>3.9August 29, 2021</td>\n",
       "      <td>3</td>\n",
       "      <td>orda(297)</td>\n",
       "      <td>10</td>\n",
       "      <td>5</td>\n",
       "      <td>10</td>\n",
       "      <td>5</td>\n",
       "      <td>9</td>\n",
       "      <td>3.9</td>\n",
       "      <td>August 29, 2021</td>\n",
       "    </tr>\n",
       "  </tbody>\n",
       "</table>\n",
       "</div>"
      ],
      "text/plain": [
       "                     맥주이름                  맥주정보  길이                  ID Aroma   \n",
       "0  Kloud Original Gravity  2.9December 29, 2022   3     vinivini(9,604)     5  \\\n",
       "1  Kloud Original Gravity  2.8September 6, 2021   3  italianjohn(5,524)     5   \n",
       "2  Kloud Original Gravity    3.9August 29, 2021   3           orda(297)    10   \n",
       "\n",
       "  Appearance Flavor Mouthfeel Overall   평점                 날짜  \n",
       "0          4      6         4      10  2.9  December 29, 2022  \n",
       "1          3      5         3      12  2.8  September 6, 2021  \n",
       "2          5     10         5       9  3.9    August 29, 2021  "
      ]
     },
     "execution_count": 95,
     "metadata": {},
     "output_type": "execute_result"
    }
   ],
   "source": [
    "# 평점은 0번째부터 3번째, 날짜는 그 이후 문자열로 처리\n",
    "ttmp['평점'] = ttmp['맥주정보'].apply(lambda x : x[:3])\n",
    "ttmp['날짜'] = ttmp['맥주정보'].apply(lambda x : x[3:])\n",
    "\n",
    "ttmp.head(3)"
   ]
  },
  {
   "cell_type": "code",
   "execution_count": 100,
   "id": "9b5b52f0",
   "metadata": {},
   "outputs": [
    {
     "ename": "ValueError",
     "evalue": "Length mismatch: Expected axis has 9 elements, new values have 11 elements",
     "output_type": "error",
     "traceback": [
      "\u001b[1;31m---------------------------------------------------------------------------\u001b[0m",
      "\u001b[1;31mValueError\u001b[0m                                Traceback (most recent call last)",
      "Cell \u001b[1;32mIn[100], line 2\u001b[0m\n\u001b[0;32m      1\u001b[0m \u001b[38;5;66;03m# 컬럼명 변경\u001b[39;00m\n\u001b[1;32m----> 2\u001b[0m \u001b[43mttmp\u001b[49m\u001b[38;5;241;43m.\u001b[39;49m\u001b[43mcolumns\u001b[49m \u001b[38;5;241m=\u001b[39m [\u001b[38;5;124m'\u001b[39m\u001b[38;5;124m맥주\u001b[39m\u001b[38;5;124m'\u001b[39m, \u001b[38;5;124m'\u001b[39m\u001b[38;5;124m맥주정보\u001b[39m\u001b[38;5;124m'\u001b[39m, \u001b[38;5;124m'\u001b[39m\u001b[38;5;124m길이\u001b[39m\u001b[38;5;124m'\u001b[39m, \u001b[38;5;124m'\u001b[39m\u001b[38;5;124m아이디\u001b[39m\u001b[38;5;124m'\u001b[39m, \u001b[38;5;124m'\u001b[39m\u001b[38;5;124mAroma\u001b[39m\u001b[38;5;124m'\u001b[39m, \u001b[38;5;124m'\u001b[39m\u001b[38;5;124mAppearance\u001b[39m\u001b[38;5;124m'\u001b[39m, \u001b[38;5;124m'\u001b[39m\u001b[38;5;124mFlavor\u001b[39m\u001b[38;5;124m'\u001b[39m,\u001b[38;5;124m'\u001b[39m\u001b[38;5;124mMouthfeel\u001b[39m\u001b[38;5;124m'\u001b[39m, \u001b[38;5;124m'\u001b[39m\u001b[38;5;124mOverall\u001b[39m\u001b[38;5;124m'\u001b[39m, \u001b[38;5;124m'\u001b[39m\u001b[38;5;124m평점\u001b[39m\u001b[38;5;124m'\u001b[39m, \u001b[38;5;124m'\u001b[39m\u001b[38;5;124m날짜\u001b[39m\u001b[38;5;124m'\u001b[39m]\n\u001b[0;32m      4\u001b[0m \u001b[38;5;66;03m# 필요한 컬럼만 추출\u001b[39;00m\n\u001b[0;32m      5\u001b[0m ttmp \u001b[38;5;241m=\u001b[39m ttmp[[\u001b[38;5;124m'\u001b[39m\u001b[38;5;124m아이디\u001b[39m\u001b[38;5;124m'\u001b[39m, \u001b[38;5;124m'\u001b[39m\u001b[38;5;124m맥주\u001b[39m\u001b[38;5;124m'\u001b[39m, \u001b[38;5;124m'\u001b[39m\u001b[38;5;124m날짜\u001b[39m\u001b[38;5;124m'\u001b[39m, \u001b[38;5;124m'\u001b[39m\u001b[38;5;124m평점\u001b[39m\u001b[38;5;124m'\u001b[39m, \u001b[38;5;124m'\u001b[39m\u001b[38;5;124mAroma\u001b[39m\u001b[38;5;124m'\u001b[39m, \u001b[38;5;124m'\u001b[39m\u001b[38;5;124mAppearance\u001b[39m\u001b[38;5;124m'\u001b[39m, \u001b[38;5;124m'\u001b[39m\u001b[38;5;124mFlavor\u001b[39m\u001b[38;5;124m'\u001b[39m,\n\u001b[0;32m      6\u001b[0m        \u001b[38;5;124m'\u001b[39m\u001b[38;5;124mMouthfeel\u001b[39m\u001b[38;5;124m'\u001b[39m, \u001b[38;5;124m'\u001b[39m\u001b[38;5;124mOverall\u001b[39m\u001b[38;5;124m'\u001b[39m]]\n",
      "File \u001b[1;32m~\\AppData\\Local\\Programs\\Python\\Python311\\Lib\\site-packages\\pandas\\core\\generic.py:6002\u001b[0m, in \u001b[0;36mNDFrame.__setattr__\u001b[1;34m(self, name, value)\u001b[0m\n\u001b[0;32m   6000\u001b[0m \u001b[38;5;28;01mtry\u001b[39;00m:\n\u001b[0;32m   6001\u001b[0m     \u001b[38;5;28mobject\u001b[39m\u001b[38;5;241m.\u001b[39m\u001b[38;5;21m__getattribute__\u001b[39m(\u001b[38;5;28mself\u001b[39m, name)\n\u001b[1;32m-> 6002\u001b[0m     \u001b[38;5;28;01mreturn\u001b[39;00m \u001b[38;5;28;43mobject\u001b[39;49m\u001b[38;5;241;43m.\u001b[39;49m\u001b[38;5;21;43m__setattr__\u001b[39;49m\u001b[43m(\u001b[49m\u001b[38;5;28;43mself\u001b[39;49m\u001b[43m,\u001b[49m\u001b[43m \u001b[49m\u001b[43mname\u001b[49m\u001b[43m,\u001b[49m\u001b[43m \u001b[49m\u001b[43mvalue\u001b[49m\u001b[43m)\u001b[49m\n\u001b[0;32m   6003\u001b[0m \u001b[38;5;28;01mexcept\u001b[39;00m \u001b[38;5;167;01mAttributeError\u001b[39;00m:\n\u001b[0;32m   6004\u001b[0m     \u001b[38;5;28;01mpass\u001b[39;00m\n",
      "File \u001b[1;32m~\\AppData\\Local\\Programs\\Python\\Python311\\Lib\\site-packages\\pandas\\_libs\\properties.pyx:69\u001b[0m, in \u001b[0;36mpandas._libs.properties.AxisProperty.__set__\u001b[1;34m()\u001b[0m\n",
      "File \u001b[1;32m~\\AppData\\Local\\Programs\\Python\\Python311\\Lib\\site-packages\\pandas\\core\\generic.py:730\u001b[0m, in \u001b[0;36mNDFrame._set_axis\u001b[1;34m(self, axis, labels)\u001b[0m\n\u001b[0;32m    725\u001b[0m \u001b[38;5;250m\u001b[39m\u001b[38;5;124;03m\"\"\"\u001b[39;00m\n\u001b[0;32m    726\u001b[0m \u001b[38;5;124;03mThis is called from the cython code when we set the `index` attribute\u001b[39;00m\n\u001b[0;32m    727\u001b[0m \u001b[38;5;124;03mdirectly, e.g. `series.index = [1, 2, 3]`.\u001b[39;00m\n\u001b[0;32m    728\u001b[0m \u001b[38;5;124;03m\"\"\"\u001b[39;00m\n\u001b[0;32m    729\u001b[0m labels \u001b[38;5;241m=\u001b[39m ensure_index(labels)\n\u001b[1;32m--> 730\u001b[0m \u001b[38;5;28;43mself\u001b[39;49m\u001b[38;5;241;43m.\u001b[39;49m\u001b[43m_mgr\u001b[49m\u001b[38;5;241;43m.\u001b[39;49m\u001b[43mset_axis\u001b[49m\u001b[43m(\u001b[49m\u001b[43maxis\u001b[49m\u001b[43m,\u001b[49m\u001b[43m \u001b[49m\u001b[43mlabels\u001b[49m\u001b[43m)\u001b[49m\n\u001b[0;32m    731\u001b[0m \u001b[38;5;28mself\u001b[39m\u001b[38;5;241m.\u001b[39m_clear_item_cache()\n",
      "File \u001b[1;32m~\\AppData\\Local\\Programs\\Python\\Python311\\Lib\\site-packages\\pandas\\core\\internals\\managers.py:225\u001b[0m, in \u001b[0;36mBaseBlockManager.set_axis\u001b[1;34m(self, axis, new_labels)\u001b[0m\n\u001b[0;32m    223\u001b[0m \u001b[38;5;28;01mdef\u001b[39;00m \u001b[38;5;21mset_axis\u001b[39m(\u001b[38;5;28mself\u001b[39m, axis: AxisInt, new_labels: Index) \u001b[38;5;241m-\u001b[39m\u001b[38;5;241m>\u001b[39m \u001b[38;5;28;01mNone\u001b[39;00m:\n\u001b[0;32m    224\u001b[0m     \u001b[38;5;66;03m# Caller is responsible for ensuring we have an Index object.\u001b[39;00m\n\u001b[1;32m--> 225\u001b[0m     \u001b[38;5;28;43mself\u001b[39;49m\u001b[38;5;241;43m.\u001b[39;49m\u001b[43m_validate_set_axis\u001b[49m\u001b[43m(\u001b[49m\u001b[43maxis\u001b[49m\u001b[43m,\u001b[49m\u001b[43m \u001b[49m\u001b[43mnew_labels\u001b[49m\u001b[43m)\u001b[49m\n\u001b[0;32m    226\u001b[0m     \u001b[38;5;28mself\u001b[39m\u001b[38;5;241m.\u001b[39maxes[axis] \u001b[38;5;241m=\u001b[39m new_labels\n",
      "File \u001b[1;32m~\\AppData\\Local\\Programs\\Python\\Python311\\Lib\\site-packages\\pandas\\core\\internals\\base.py:70\u001b[0m, in \u001b[0;36mDataManager._validate_set_axis\u001b[1;34m(self, axis, new_labels)\u001b[0m\n\u001b[0;32m     67\u001b[0m     \u001b[38;5;28;01mpass\u001b[39;00m\n\u001b[0;32m     69\u001b[0m \u001b[38;5;28;01melif\u001b[39;00m new_len \u001b[38;5;241m!=\u001b[39m old_len:\n\u001b[1;32m---> 70\u001b[0m     \u001b[38;5;28;01mraise\u001b[39;00m \u001b[38;5;167;01mValueError\u001b[39;00m(\n\u001b[0;32m     71\u001b[0m         \u001b[38;5;124mf\u001b[39m\u001b[38;5;124m\"\u001b[39m\u001b[38;5;124mLength mismatch: Expected axis has \u001b[39m\u001b[38;5;132;01m{\u001b[39;00mold_len\u001b[38;5;132;01m}\u001b[39;00m\u001b[38;5;124m elements, new \u001b[39m\u001b[38;5;124m\"\u001b[39m\n\u001b[0;32m     72\u001b[0m         \u001b[38;5;124mf\u001b[39m\u001b[38;5;124m\"\u001b[39m\u001b[38;5;124mvalues have \u001b[39m\u001b[38;5;132;01m{\u001b[39;00mnew_len\u001b[38;5;132;01m}\u001b[39;00m\u001b[38;5;124m elements\u001b[39m\u001b[38;5;124m\"\u001b[39m\n\u001b[0;32m     73\u001b[0m     )\n",
      "\u001b[1;31mValueError\u001b[0m: Length mismatch: Expected axis has 9 elements, new values have 11 elements"
     ]
    }
   ],
   "source": [
    "# 컬럼명 변경\n",
    "ttmp.columns = ['맥주', '맥주정보', '길이', '아이디', 'Aroma', 'Appearance', 'Flavor','Mouthfeel', 'Overall', '평점', '날짜']\n",
    "\n",
    "# 필요한 컬럼만 추출\n",
    "ttmp = ttmp[['아이디', '맥주', '날짜', '평점', 'Aroma', 'Appearance', 'Flavor',\n",
    "       'Mouthfeel', 'Overall']]"
   ]
  },
  {
   "cell_type": "code",
   "execution_count": 135,
   "id": "055c116b",
   "metadata": {},
   "outputs": [],
   "source": [
    "ttmp_c = ttmp.copy()"
   ]
  },
  {
   "cell_type": "code",
   "execution_count": 131,
   "id": "758dba3f",
   "metadata": {},
   "outputs": [
    {
     "data": {
      "text/plain": [
       "array(['2.9', '2.8', '3.9', '2.4', '2.3', '1.0', '4.0', '2.0', '3.0',\n",
       "       '2.2', '3.2', '2.7', '2.5', '1.5', '3.1', '2.6', '1.7', '1.8',\n",
       "       '0.5', '1.6', '1.9', '2.1', '0.9', '1.3', '0.8', '1.1', '5.0',\n",
       "       '0.7', '4.7', '0.6', '3.3', '1.4', '3.6', '3.4', '3.5', '3.8',\n",
       "       '3.7', '1.2', '4.5', '4.3', '4.2', '4.6', '4.1', '4.4', '4.8',\n",
       "       '4.9'], dtype=object)"
      ]
     },
     "execution_count": 131,
     "metadata": {},
     "output_type": "execute_result"
    }
   ],
   "source": [
    "ttmp_c.평점.unique()"
   ]
  },
  {
   "cell_type": "code",
   "execution_count": 136,
   "id": "d11965ea",
   "metadata": {},
   "outputs": [],
   "source": [
    "# 세부 리뷰 값이 '-'가 아닌 데이터만 저장\n",
    "ttmp_c = ttmp_c[~ttmp_c['평점'].isin(['0Ma', '0Ja', '0De', '0Oc'])]"
   ]
  },
  {
   "cell_type": "code",
   "execution_count": 137,
   "id": "283d8f23",
   "metadata": {},
   "outputs": [],
   "source": [
    "ttmp_c = ttmp_c[ttmp_c['Aroma'].isin(['5', '10', '6', '4','1','9','3','7','2','8'])]"
   ]
  },
  {
   "cell_type": "code",
   "execution_count": 138,
   "id": "e769e136",
   "metadata": {},
   "outputs": [],
   "source": [
    "ttmp_c = ttmp_c[ttmp_c['Appearance'].isin(['5', '10', '6', '4','1','9','3','7','2','8'])]"
   ]
  },
  {
   "cell_type": "code",
   "execution_count": 139,
   "id": "26960cd5",
   "metadata": {},
   "outputs": [
    {
     "name": "stdout",
     "output_type": "stream",
     "text": [
      "<class 'pandas.core.frame.DataFrame'>\n",
      "Index: 73975 entries, 0 to 4240\n",
      "Data columns (total 9 columns):\n",
      " #   Column      Non-Null Count  Dtype \n",
      "---  ------      --------------  ----- \n",
      " 0   아이디         73975 non-null  object\n",
      " 1   맥주          73975 non-null  object\n",
      " 2   날짜          73975 non-null  object\n",
      " 3   평점          73975 non-null  object\n",
      " 4   Aroma       73975 non-null  object\n",
      " 5   Appearance  73975 non-null  object\n",
      " 6   Flavor      73975 non-null  object\n",
      " 7   Mouthfeel   73975 non-null  object\n",
      " 8   Overall     73975 non-null  object\n",
      "dtypes: object(9)\n",
      "memory usage: 5.6+ MB\n"
     ]
    }
   ],
   "source": [
    "ttmp_c.info()"
   ]
  },
  {
   "cell_type": "code",
   "execution_count": 140,
   "id": "e94da01d",
   "metadata": {},
   "outputs": [
    {
     "name": "stdout",
     "output_type": "stream",
     "text": [
      "<class 'pandas.core.frame.DataFrame'>\n",
      "Index: 69205 entries, 0 to 4222\n",
      "Data columns (total 9 columns):\n",
      " #   Column      Non-Null Count  Dtype  \n",
      "---  ------      --------------  -----  \n",
      " 0   아이디         69205 non-null  object \n",
      " 1   맥주          69205 non-null  object \n",
      " 2   날짜          69205 non-null  object \n",
      " 3   평점          69205 non-null  float64\n",
      " 4   Aroma       69205 non-null  int64  \n",
      " 5   Appearance  69205 non-null  int64  \n",
      " 6   Flavor      69205 non-null  int64  \n",
      " 7   Mouthfeel   69205 non-null  int64  \n",
      " 8   Overall     69205 non-null  int64  \n",
      "dtypes: float64(1), int64(5), object(3)\n",
      "memory usage: 5.3+ MB\n"
     ]
    }
   ],
   "source": [
    "# 수치형 데이터는 실수로 변환 : pd.to_numeric() 함수 사용\n",
    "ttmp_c['평점'] = pd.to_numeric(ttmp_c['평점'])\n",
    "ttmp_c['Aroma'] = pd.to_numeric(ttmp_c['Aroma'])\n",
    "ttmp_c['Appearance'] = pd.to_numeric(ttmp_c['Appearance'])\n",
    "ttmp_c['Flavor'] = pd.to_numeric(ttmp_c['Flavor'])\n",
    "ttmp_c['Mouthfeel'] = pd.to_numeric(ttmp_c['Mouthfeel'])\n",
    "ttmp_c['Overall'] = pd.to_numeric(ttmp_c['Overall'])\n",
    "# 중복된 행들을 제거합니다.\n",
    "ttmp_c.drop_duplicates(keep='first', inplace=True)\n",
    "\n",
    "# 최종 데이터 확인\n",
    "ttmp_c.info()"
   ]
  },
  {
   "cell_type": "code",
   "execution_count": 141,
   "id": "4fdbb4ea",
   "metadata": {},
   "outputs": [
    {
     "data": {
      "text/html": [
       "<div>\n",
       "<style scoped>\n",
       "    .dataframe tbody tr th:only-of-type {\n",
       "        vertical-align: middle;\n",
       "    }\n",
       "\n",
       "    .dataframe tbody tr th {\n",
       "        vertical-align: top;\n",
       "    }\n",
       "\n",
       "    .dataframe thead th {\n",
       "        text-align: right;\n",
       "    }\n",
       "</style>\n",
       "<table border=\"1\" class=\"dataframe\">\n",
       "  <thead>\n",
       "    <tr style=\"text-align: right;\">\n",
       "      <th></th>\n",
       "      <th>평점</th>\n",
       "      <th>Aroma</th>\n",
       "      <th>Appearance</th>\n",
       "      <th>Flavor</th>\n",
       "      <th>Mouthfeel</th>\n",
       "      <th>Overall</th>\n",
       "    </tr>\n",
       "  </thead>\n",
       "  <tbody>\n",
       "    <tr>\n",
       "      <th>count</th>\n",
       "      <td>69205.000000</td>\n",
       "      <td>69205.000000</td>\n",
       "      <td>69205.000000</td>\n",
       "      <td>69205.000000</td>\n",
       "      <td>69205.000000</td>\n",
       "      <td>69205.000000</td>\n",
       "    </tr>\n",
       "    <tr>\n",
       "      <th>mean</th>\n",
       "      <td>2.646369</td>\n",
       "      <td>4.880775</td>\n",
       "      <td>3.105729</td>\n",
       "      <td>5.204263</td>\n",
       "      <td>2.805520</td>\n",
       "      <td>10.467105</td>\n",
       "    </tr>\n",
       "    <tr>\n",
       "      <th>std</th>\n",
       "      <td>0.929669</td>\n",
       "      <td>1.996946</td>\n",
       "      <td>1.057979</td>\n",
       "      <td>1.986474</td>\n",
       "      <td>0.976336</td>\n",
       "      <td>4.227437</td>\n",
       "    </tr>\n",
       "    <tr>\n",
       "      <th>min</th>\n",
       "      <td>0.500000</td>\n",
       "      <td>1.000000</td>\n",
       "      <td>1.000000</td>\n",
       "      <td>1.000000</td>\n",
       "      <td>1.000000</td>\n",
       "      <td>1.000000</td>\n",
       "    </tr>\n",
       "    <tr>\n",
       "      <th>25%</th>\n",
       "      <td>2.000000</td>\n",
       "      <td>3.000000</td>\n",
       "      <td>2.000000</td>\n",
       "      <td>4.000000</td>\n",
       "      <td>2.000000</td>\n",
       "      <td>8.000000</td>\n",
       "    </tr>\n",
       "    <tr>\n",
       "      <th>50%</th>\n",
       "      <td>2.700000</td>\n",
       "      <td>5.000000</td>\n",
       "      <td>3.000000</td>\n",
       "      <td>5.000000</td>\n",
       "      <td>3.000000</td>\n",
       "      <td>11.000000</td>\n",
       "    </tr>\n",
       "    <tr>\n",
       "      <th>75%</th>\n",
       "      <td>3.300000</td>\n",
       "      <td>6.000000</td>\n",
       "      <td>4.000000</td>\n",
       "      <td>7.000000</td>\n",
       "      <td>3.000000</td>\n",
       "      <td>14.000000</td>\n",
       "    </tr>\n",
       "    <tr>\n",
       "      <th>max</th>\n",
       "      <td>5.000000</td>\n",
       "      <td>10.000000</td>\n",
       "      <td>5.000000</td>\n",
       "      <td>10.000000</td>\n",
       "      <td>5.000000</td>\n",
       "      <td>20.000000</td>\n",
       "    </tr>\n",
       "  </tbody>\n",
       "</table>\n",
       "</div>"
      ],
      "text/plain": [
       "                 평점         Aroma    Appearance        Flavor     Mouthfeel   \n",
       "count  69205.000000  69205.000000  69205.000000  69205.000000  69205.000000  \\\n",
       "mean       2.646369      4.880775      3.105729      5.204263      2.805520   \n",
       "std        0.929669      1.996946      1.057979      1.986474      0.976336   \n",
       "min        0.500000      1.000000      1.000000      1.000000      1.000000   \n",
       "25%        2.000000      3.000000      2.000000      4.000000      2.000000   \n",
       "50%        2.700000      5.000000      3.000000      5.000000      3.000000   \n",
       "75%        3.300000      6.000000      4.000000      7.000000      3.000000   \n",
       "max        5.000000     10.000000      5.000000     10.000000      5.000000   \n",
       "\n",
       "            Overall  \n",
       "count  69205.000000  \n",
       "mean      10.467105  \n",
       "std        4.227437  \n",
       "min        1.000000  \n",
       "25%        8.000000  \n",
       "50%       11.000000  \n",
       "75%       14.000000  \n",
       "max       20.000000  "
      ]
     },
     "execution_count": 141,
     "metadata": {},
     "output_type": "execute_result"
    }
   ],
   "source": [
    "ttmp_c.describe()"
   ]
  },
  {
   "cell_type": "code",
   "execution_count": 134,
   "id": "5710e090",
   "metadata": {},
   "outputs": [],
   "source": [
    "ttmp_c.to_csv('전처리후데이터.csv', encoding='utf-8')"
   ]
  },
  {
   "cell_type": "code",
   "execution_count": null,
   "id": "bbb6ee9d",
   "metadata": {},
   "outputs": [],
   "source": []
  }
 ],
 "metadata": {
  "kernelspec": {
   "display_name": "Python 3 (ipykernel)",
   "language": "python",
   "name": "python3"
  },
  "language_info": {
   "codemirror_mode": {
    "name": "ipython",
    "version": 3
   },
   "file_extension": ".py",
   "mimetype": "text/x-python",
   "name": "python",
   "nbconvert_exporter": "python",
   "pygments_lexer": "ipython3",
   "version": "3.11.2"
  }
 },
 "nbformat": 4,
 "nbformat_minor": 5
}
